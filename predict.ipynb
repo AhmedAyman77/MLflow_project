{
 "cells": [
  {
   "cell_type": "code",
   "execution_count": 10,
   "metadata": {},
   "outputs": [],
   "source": [
    "import mlflow\n",
    "import numpy as np"
   ]
  },
  {
   "cell_type": "code",
   "execution_count": 11,
   "metadata": {},
   "outputs": [],
   "source": [
    "data = [[-0.7541830079917924,0.5780143566720919,0.11375998165198585,-0.14673040749854463,0.0,0.0,0.0,0.0,2.0,2.0,0.0],\n",
    "        [-0.5605884106597949,0.753908347743766,0.7003528882054108,1.6923927520037099,0.0,1.0,0.0,1.0,1.0,9.0,1.0],\n",
    "        [0.11699268000219652,-0.3221490094005933,0.5222180917013974,-0.8721429873346316,1.0,1.0,0.0,1.0,2.0,5.0,0.0],\n",
    "        [0.6977764719981892,-0.7256705183297281,-1.2170740485175422,0.07677206232885857,0.0,0.0,1.0,1.0,2.0,1.0,0.0],\n",
    "        [-0.4637911119937961,0.2779599013145302,-1.2170740485175422,0.4302609530322328,0.0,0.0,0.0,1.0,2.0,6.0,1.0],\n",
    "        [-0.5605884106597949,1.4471376066733053,-1.2170740485175422,0.7750570034703476,0.0,0.0,0.0,1.0,1.0,3.0,1.0],\n",
    "        [0.6977764719981892,1.405750785244676,0.6747429760058427,-0.11304138959228119,1.0,0.0,0.0,1.0,2.0,7.0,1.0],\n",
    "        [1.8593440559901744,-1.2843926076162224,0.9903495010882029,0.45726073537537504,1.0,1.0,0.0,1.0,1.0,3.0,1.0],\n",
    "        [-1.334966799987785,0.3090000173860021,-1.2170740485175422,-0.1565191593477141,1.0,0.0,0.0,0.0,1.0,5.0,1.0]]\n",
    "\n",
    "data = np.array(data)"
   ]
  },
  {
   "cell_type": "code",
   "execution_count": 12,
   "metadata": {},
   "outputs": [
    {
     "name": "stderr",
     "output_type": "stream",
     "text": [
      "2025/01/07 19:05:49 WARNING mlflow.utils.requirements_utils: Detected one or more mismatches between the model's dependencies and the current Python environment:\n",
      " - numpy (current: 2.2.1, required: numpy==1.26.4)\n",
      " - pandas (current: 2.2.3, required: pandas==2.2.1)\n",
      " - scipy (current: 1.15.0, required: scipy==1.12.0)\n",
      "To fix the mismatches, call `mlflow.pyfunc.get_model_dependencies(model_uri)` to fetch the model's environment and install dependencies using the resulting environment file.\n"
     ]
    },
    {
     "data": {
      "text/plain": [
       "array([0, 0, 0, 0, 0, 0, 0, 0, 0])"
      ]
     },
     "execution_count": 12,
     "metadata": {},
     "output_type": "execute_result"
    }
   ],
   "source": [
    "logged_model = 'runs:/8976201dc2c24817966430538ca73756/RandomForestClassifier/without-imbalance'\n",
    "\n",
    "# Load model as a PyFuncModel.\n",
    "loaded_model = mlflow.pyfunc.load_model(logged_model)\n",
    "\n",
    "# Predict on a Pandas DataFrame.\n",
    "import pandas as pd\n",
    "loaded_model.predict(pd.DataFrame(data))"
   ]
  },
  {
   "cell_type": "code",
   "execution_count": 14,
   "metadata": {},
   "outputs": [
    {
     "name": "stderr",
     "output_type": "stream",
     "text": [
      "/home/ahmedcr7/miniconda3/envs/work/lib/python3.12/site-packages/mlflow/store/artifact/utils/models.py:31: FutureWarning: ``mlflow.tracking.client.MlflowClient.get_latest_versions`` is deprecated since 2.9.0. Model registry stages will be removed in a future major release. To learn more about the deprecation of model registry stages, see our migration guide here: https://mlflow.org/docs/latest/model-registry.html#migrating-from-stages\n",
      "  latest = client.get_latest_versions(name, None if stage is None else [stage])\n",
      "2025/01/07 19:06:56 WARNING mlflow.utils.requirements_utils: Detected one or more mismatches between the model's dependencies and the current Python environment:\n",
      " - numpy (current: 2.2.1, required: numpy==1.26.4)\n",
      " - pandas (current: 2.2.3, required: pandas==2.2.1)\n",
      " - scipy (current: 1.15.0, required: scipy==1.12.0)\n",
      "To fix the mismatches, call `mlflow.pyfunc.get_model_dependencies(model_uri)` to fetch the model's environment and install dependencies using the resulting environment file.\n"
     ]
    },
    {
     "data": {
      "text/plain": [
       "array([0, 0, 0, 0, 0, 0, 0, 1, 0])"
      ]
     },
     "execution_count": 14,
     "metadata": {},
     "output_type": "execute_result"
    }
   ],
   "source": [
    "logged_model = 'models:/forest_best_accuracy/Staging'\n",
    "\n",
    "# Load model as a PyFuncModel.\n",
    "loaded_model = mlflow.pyfunc.load_model(logged_model)\n",
    "\n",
    "# Predict on a Pandas DataFrame.\n",
    "import pandas as pd\n",
    "loaded_model.predict(pd.DataFrame(data))"
   ]
  }
 ],
 "metadata": {
  "kernelspec": {
   "display_name": "work",
   "language": "python",
   "name": "python3"
  },
  "language_info": {
   "codemirror_mode": {
    "name": "ipython",
    "version": 3
   },
   "file_extension": ".py",
   "mimetype": "text/x-python",
   "name": "python",
   "nbconvert_exporter": "python",
   "pygments_lexer": "ipython3",
   "version": "3.12.8"
  },
  "orig_nbformat": 4
 },
 "nbformat": 4,
 "nbformat_minor": 2
}
